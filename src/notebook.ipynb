{
 "cells": [
  {
   "cell_type": "code",
   "execution_count": 2,
   "id": "53df6a2e",
   "metadata": {},
   "outputs": [
    {
     "name": "stdout",
     "output_type": "stream",
     "text": [
      "Current working directory: c:\\Learning\\tap30-ride-demandmlops\n"
     ]
    }
   ],
   "source": [
    "import os\n",
    "print(\"Current working directory:\", os.getcwd())\n"
   ]
  },
  {
   "cell_type": "code",
   "execution_count": 1,
   "id": "90fc1da8",
   "metadata": {},
   "outputs": [
    {
     "name": "stdout",
     "output_type": "stream",
     "text": [
      "Current working directory: c:\\Learning\\tap30-ride-demandmlops\n"
     ]
    }
   ],
   "source": [
    "import os\n",
    "from pathlib import Path\n",
    "\n",
    "# Back to project's folder\n",
    "os.chdir(\"..\")\n",
    "print(\"Current working directory:\", os.getcwd())"
   ]
  },
  {
   "cell_type": "code",
   "execution_count": 15,
   "id": "a4b564ee",
   "metadata": {},
   "outputs": [],
   "source": [
    "from pathlib import Path\n",
    "\n",
    "\n",
    "import matplotlib.pyplot as plt\n",
    "import pandas as pd\n"
   ]
  },
  {
   "cell_type": "code",
   "execution_count": 16,
   "id": "c1a78eca",
   "metadata": {},
   "outputs": [
    {
     "name": "stdout",
     "output_type": "stream",
     "text": [
      "   time  row  col  demand\n",
      "0     0    0    0       0\n",
      "1     0    0    1       0\n",
      "2     0    0    7      33\n",
      "3     0    1    3      19\n",
      "4     0    1    4      14\n",
      "5     0    1    5       8\n",
      "6     0    2    2       3\n",
      "7     0    2    3      17\n",
      "8     0    2    4      14\n",
      "9     0    2    5      11\n"
     ]
    }
   ],
   "source": [
    "import pandas as pd\n",
    "from pathlib import Path\n",
    "\n",
    "raw_dir = Path(\"artifacts/raw\")\n",
    "train_ds = (\n",
    "    pd.read_csv(raw_dir / \"train.csv\")\n",
    "    .sort_values([\"time\", \"row\", \"col\"])\n",
    "    .reset_index(drop=True)\n",
    ")\n",
    "\n",
    "print(train_ds.head(10))\n"
   ]
  },
  {
   "cell_type": "code",
   "execution_count": 17,
   "id": "a99e8a24",
   "metadata": {},
   "outputs": [
    {
     "data": {
      "text/html": [
       "<div>\n",
       "<style scoped>\n",
       "    .dataframe tbody tr th:only-of-type {\n",
       "        vertical-align: middle;\n",
       "    }\n",
       "\n",
       "    .dataframe tbody tr th {\n",
       "        vertical-align: top;\n",
       "    }\n",
       "\n",
       "    .dataframe thead th {\n",
       "        text-align: right;\n",
       "    }\n",
       "</style>\n",
       "<table border=\"1\" class=\"dataframe\">\n",
       "  <thead>\n",
       "    <tr style=\"text-align: right;\">\n",
       "      <th></th>\n",
       "      <th>time</th>\n",
       "      <th>row</th>\n",
       "      <th>col</th>\n",
       "      <th>demand</th>\n",
       "      <th>hour_of_day</th>\n",
       "      <th>day</th>\n",
       "    </tr>\n",
       "  </thead>\n",
       "  <tbody>\n",
       "    <tr>\n",
       "      <th>0</th>\n",
       "      <td>0</td>\n",
       "      <td>0</td>\n",
       "      <td>0</td>\n",
       "      <td>0</td>\n",
       "      <td>0</td>\n",
       "      <td>0</td>\n",
       "    </tr>\n",
       "    <tr>\n",
       "      <th>1</th>\n",
       "      <td>0</td>\n",
       "      <td>0</td>\n",
       "      <td>1</td>\n",
       "      <td>0</td>\n",
       "      <td>0</td>\n",
       "      <td>0</td>\n",
       "    </tr>\n",
       "    <tr>\n",
       "      <th>2</th>\n",
       "      <td>0</td>\n",
       "      <td>0</td>\n",
       "      <td>7</td>\n",
       "      <td>33</td>\n",
       "      <td>0</td>\n",
       "      <td>0</td>\n",
       "    </tr>\n",
       "    <tr>\n",
       "      <th>3</th>\n",
       "      <td>0</td>\n",
       "      <td>1</td>\n",
       "      <td>3</td>\n",
       "      <td>19</td>\n",
       "      <td>0</td>\n",
       "      <td>0</td>\n",
       "    </tr>\n",
       "    <tr>\n",
       "      <th>4</th>\n",
       "      <td>0</td>\n",
       "      <td>1</td>\n",
       "      <td>4</td>\n",
       "      <td>14</td>\n",
       "      <td>0</td>\n",
       "      <td>0</td>\n",
       "    </tr>\n",
       "    <tr>\n",
       "      <th>5</th>\n",
       "      <td>0</td>\n",
       "      <td>1</td>\n",
       "      <td>5</td>\n",
       "      <td>8</td>\n",
       "      <td>0</td>\n",
       "      <td>0</td>\n",
       "    </tr>\n",
       "    <tr>\n",
       "      <th>6</th>\n",
       "      <td>0</td>\n",
       "      <td>2</td>\n",
       "      <td>2</td>\n",
       "      <td>3</td>\n",
       "      <td>0</td>\n",
       "      <td>0</td>\n",
       "    </tr>\n",
       "    <tr>\n",
       "      <th>7</th>\n",
       "      <td>0</td>\n",
       "      <td>2</td>\n",
       "      <td>3</td>\n",
       "      <td>17</td>\n",
       "      <td>0</td>\n",
       "      <td>0</td>\n",
       "    </tr>\n",
       "    <tr>\n",
       "      <th>8</th>\n",
       "      <td>0</td>\n",
       "      <td>2</td>\n",
       "      <td>4</td>\n",
       "      <td>14</td>\n",
       "      <td>0</td>\n",
       "      <td>0</td>\n",
       "    </tr>\n",
       "    <tr>\n",
       "      <th>9</th>\n",
       "      <td>0</td>\n",
       "      <td>2</td>\n",
       "      <td>5</td>\n",
       "      <td>11</td>\n",
       "      <td>0</td>\n",
       "      <td>0</td>\n",
       "    </tr>\n",
       "  </tbody>\n",
       "</table>\n",
       "</div>"
      ],
      "text/plain": [
       "   time  row  col  demand  hour_of_day  day\n",
       "0     0    0    0       0            0    0\n",
       "1     0    0    1       0            0    0\n",
       "2     0    0    7      33            0    0\n",
       "3     0    1    3      19            0    0\n",
       "4     0    1    4      14            0    0\n",
       "5     0    1    5       8            0    0\n",
       "6     0    2    2       3            0    0\n",
       "7     0    2    3      17            0    0\n",
       "8     0    2    4      14            0    0\n",
       "9     0    2    5      11            0    0"
      ]
     },
     "execution_count": 17,
     "metadata": {},
     "output_type": "execute_result"
    }
   ],
   "source": [
    "train_ds = train_ds.assign(\n",
    "    hour_of_day=train_ds[\"time\"] % 24, day=train_ds[\"time\"] // 24\n",
    ")\n",
    "train_ds.head(10)"
   ]
  },
  {
   "cell_type": "code",
   "execution_count": null,
   "id": "299ecf3a",
   "metadata": {},
   "outputs": [
    {
     "ename": "",
     "evalue": "",
     "output_type": "error",
     "traceback": [
      "\u001b[1;31mFailed to start the Kernel. \n",
      "\u001b[1;31mUnable to start Kernel '.venv (Python 3.13.3)' due to a timeout waiting for the ports to get used. \n",
      "\u001b[1;31mView Jupyter <a href='command:jupyter.viewOutput'>log</a> for further details."
     ]
    }
   ],
   "source": [
    "fig, (ax1, ax2, ax3) = plt.subplots(3, 1, figsize=(12, 20))\n",
    "\n",
    "# Plot 1: Demand Over Time\n",
    "ax1.plot(train_ds[\"time\"], train_ds[\"demand\"], \"b-\", alpha=0.5)\n",
    "ax1.set_title(\"Demand Over Time\")\n",
    "ax1.set_xlabel(\"Time Period\")\n",
    "ax1.set_ylabel(\"Demand\")\n",
    "ax1.grid(True, alpha=0.3)\n",
    "\n",
    "# Plot 2: Demand by Hour of Day\n",
    "hourly_demand = train_ds.groupby(\"hour_of_day\")[\"demand\"].sum()\n",
    "ax2.bar(hourly_demand.index, hourly_demand.values, color=\"skyblue\")\n",
    "ax2.set_title(\"Demand by Hour of Day\")\n",
    "ax2.set_xlabel(\"Hour of Day [0-23]\")\n",
    "ax2.set_ylabel(\"Demand\")\n",
    "ax2.grid(True, alpha=0.3)\n",
    "\n",
    "# Plot 3: Daily Demand\n",
    "daily_demand = train_ds.groupby(\"day\")[\"demand\"].sum()\n",
    "ax3.plot(daily_demand.index, daily_demand.values, \"g-\", marker=\"o\")\n",
    "ax3.set_title(\"Daily Demand\")\n",
    "ax3.set_xlabel(\"Date\")\n",
    "ax3.set_ylabel(\"Demand\")\n",
    "ax3.grid(True, alpha=0.3)\n",
    "\n",
    "plt.tight_layout()\n"
   ]
  },
  {
   "cell_type": "code",
   "execution_count": 19,
   "id": "d87fb770",
   "metadata": {},
   "outputs": [
    {
     "name": "stdout",
     "output_type": "stream",
     "text": [
      "Best shift found: 18 hours\n"
     ]
    },
    {
     "data": {
      "image/png": "[encoded data removed]",
      "text/plain": [
       "<Figure size 1200x600 with 1 Axes>"
      ]
     },
     "metadata": {},
     "output_type": "display_data"
    }
   ],
   "source": [
    "shifts = range(24)\n",
    "best_shift = 0\n",
    "max_variance = float(\"-inf\")\n",
    "\n",
    "train_ds_sorted = train_ds.sort_values(\"time\").reset_index(drop=True)\n",
    "\n",
    "for shift in shifts:\n",
    "    df_temp = train_ds_sorted.copy()\n",
    "    df_temp[\"hour_of_day\"] = (df_temp[\"time\"] + shift) % 24\n",
    "\n",
    "    # Calculate demand for peak (e.g., hours 17-18) and off-peak (e.g., hours 3-4) periods\n",
    "    peak_demand = df_temp[df_temp[\"hour_of_day\"].isin([17, 18])][\"demand\"].sum()\n",
    "    off_peak_demand = df_temp[df_temp[\"hour_of_day\"].isin([3, 4])][\"demand\"].sum()\n",
    "    variance = peak_demand - off_peak_demand\n",
    "\n",
    "    if variance > max_variance:\n",
    "        max_variance = variance\n",
    "        best_shift = shift\n",
    "\n",
    "train_ds_sorted[\"hour_of_day\"] = (train_ds_sorted[\"time\"] + best_shift) % 24\n",
    "train_ds_sorted[\"day\"] = train_ds_sorted[\"time\"] // 24\n",
    "\n",
    "print(f\"Best shift found: {best_shift} hours\")\n",
    "\n",
    "\n",
    "hourly_demand = train_ds_sorted.groupby(\"hour_of_day\")[\"demand\"].sum()\n",
    "\n",
    "plt.figure(figsize=(12, 6))\n",
    "plt.bar(hourly_demand.index, hourly_demand.values, color=\"skyblue\")\n",
    "plt.title(\"Demand by Hour of Day (After Shifting)\")\n",
    "plt.xlabel(\"Hour of Day\")\n",
    "plt.ylabel(\"Demand\")\n",
    "plt.grid(True, alpha=0.3)\n",
    "plt.tight_layout()"
   ]
  },
  {
   "cell_type": "code",
   "execution_count": null,
   "id": "81d34a33",
   "metadata": {},
   "outputs": [],
   "source": []
  }
 ],
 "metadata": {
  "kernelspec": {
   "display_name": ".venv",
   "language": "python",
   "name": "python3"
  },
  "language_info": {
   "codemirror_mode": {
    "name": "ipython",
    "version": 3
   },
   "file_extension": ".py",
   "mimetype": "text/x-python",
   "name": "python",
   "nbconvert_exporter": "python",
   "pygments_lexer": "ipython3",
   "version": "3.13.3"
  }
 },
 "nbformat": 4,
 "nbformat_minor": 5
}
